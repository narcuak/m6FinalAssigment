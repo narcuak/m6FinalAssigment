{
 "cells": [
  {
   "cell_type": "markdown",
   "id": "9ad2ab79-a077-4838-b071-670e138c84d1",
   "metadata": {},
   "source": [
    "# Data Science Tools and Ecosystem"
   ]
  },
  {
   "cell_type": "markdown",
   "id": "a353c3a4-0ae7-4272-9be9-f3e9610a6db2",
   "metadata": {},
   "source": [
    "In this notebook, Data Science Tools and Ecosystem are summarized."
   ]
  },
  {
   "cell_type": "markdown",
   "id": "b6630fa7-83b8-4c62-9091-a17160596b21",
   "metadata": {},
   "source": [
    "**Objectives**\n",
    "* List popular languages for Data Science.\n",
    "* Make tables.\n",
    "* Compute basic arithmetic."
   ]
  },
  {
   "cell_type": "markdown",
   "id": "86fcc8ea-5500-4bb1-b862-7dd902e48bc1",
   "metadata": {},
   "source": [
    "Some of the popular languages that Data Scientist use are:\n",
    "1. Python\n",
    "2. R\n",
    "3. C++"
   ]
  },
  {
   "cell_type": "markdown",
   "id": "2a347982-b6b7-4396-85f5-009413ddf054",
   "metadata": {},
   "source": [
    "Some of the commonly used libraries used by Data Scientist include:\n",
    "1. Pandas\n",
    "2. Numpy\n",
    "3. scikit-learn\n",
    "4. TensorFlow"
   ]
  },
  {
   "cell_type": "markdown",
   "id": "048333e6-30d8-452f-b19e-6e6b1b464bfb",
   "metadata": {},
   "source": [
    "|Data Science Tools|\n",
    "|---|\n",
    "|RStudio|\n",
    "|Jupyter Lab|\n",
    "|Spyder|"
   ]
  },
  {
   "cell_type": "markdown",
   "id": "a513435b-4b2e-4bdb-8fcf-4d069e7b92b2",
   "metadata": {},
   "source": [
    "### Below are a few examples of evaluating arithmetic expressions in Python"
   ]
  },
  {
   "cell_type": "code",
   "execution_count": 1,
   "id": "7dea6ca4-04ab-4d6d-84cd-d527b5cf750d",
   "metadata": {},
   "outputs": [
    {
     "data": {
      "text/plain": [
       "17"
      ]
     },
     "execution_count": 1,
     "metadata": {},
     "output_type": "execute_result"
    }
   ],
   "source": [
    "# this is a simple arithmetic expression to multiply then add integers\n",
    "(3*4)+5"
   ]
  },
  {
   "cell_type": "code",
   "execution_count": 3,
   "id": "159d9417-e2ae-4250-bd92-f82808b73b04",
   "metadata": {},
   "outputs": [
    {
     "data": {
      "text/plain": [
       "3.3333333333333335"
      ]
     },
     "execution_count": 3,
     "metadata": {},
     "output_type": "execute_result"
    }
   ],
   "source": [
    "# This will convert 200 minutos to hour by dividing by 60.\n",
    "minutes = 200\n",
    "hours = minutes/60\n",
    "hours"
   ]
  },
  {
   "cell_type": "markdown",
   "id": "a5273656-df4f-4125-8a85-87eae8be5c8f",
   "metadata": {},
   "source": [
    "## Author\n",
    "Marcial Galván."
   ]
  },
  {
   "cell_type": "code",
   "execution_count": null,
   "id": "8f9d0e98-fcae-4ec8-97fb-369bca5d90dd",
   "metadata": {},
   "outputs": [],
   "source": []
  }
 ],
 "metadata": {
  "kernelspec": {
   "display_name": "Python 3",
   "language": "python",
   "name": "python3"
  },
  "language_info": {
   "codemirror_mode": {
    "name": "ipython",
    "version": 3
   },
   "file_extension": ".py",
   "mimetype": "text/x-python",
   "name": "python",
   "nbconvert_exporter": "python",
   "pygments_lexer": "ipython3",
   "version": "3.7.7"
  }
 },
 "nbformat": 4,
 "nbformat_minor": 5
}
